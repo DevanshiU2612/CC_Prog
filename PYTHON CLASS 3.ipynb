{
 "cells": [
  {
   "cell_type": "code",
   "execution_count": 1,
   "id": "9a0f5973",
   "metadata": {},
   "outputs": [
    {
     "name": "stdout",
     "output_type": "stream",
     "text": [
      "enter a text: thanks\n",
      "a--> 1\n",
      "e--> 0\n",
      "i--> 0\n",
      "o--> 0\n",
      "u--> 0\n"
     ]
    }
   ],
   "source": [
    "# ASSIGNMENT 3\n",
    "# PROGRAM TO PRINT THE COUNT OF VOWELS IN THE INPUT TEXT\n",
    "#INPUT\n",
    "text = input(\"enter a text: \")\n",
    "# process\n",
    "text = text.lower()\n",
    "print('a-->', text.count(\"a\"))\n",
    "print('e-->', text.count(\"e\"))\n",
    "print('i-->', text.count(\"i\"))\n",
    "print('o-->', text.count(\"o\"))\n",
    "print('u-->', text.count(\"u\"))"
   ]
  },
  {
   "cell_type": "code",
   "execution_count": 9,
   "id": "12a892ed",
   "metadata": {},
   "outputs": [
    {
     "data": {
      "text/plain": [
       "'129-76-34'"
      ]
     },
     "execution_count": 9,
     "metadata": {},
     "output_type": "execute_result"
    }
   ],
   "source": [
    "# STRING MODIFICATION\n",
    "ip = '129-76-34'\n",
    "newip = ip.replace('-', '*')\n",
    "ip"
   ]
  },
  {
   "cell_type": "code",
   "execution_count": 10,
   "id": "942b4631",
   "metadata": {},
   "outputs": [
    {
     "data": {
      "text/plain": [
       "'129*76*34'"
      ]
     },
     "execution_count": 10,
     "metadata": {},
     "output_type": "execute_result"
    }
   ],
   "source": [
    "newip"
   ]
  },
  {
   "cell_type": "code",
   "execution_count": 11,
   "id": "ea3804f8",
   "metadata": {},
   "outputs": [
    {
     "data": {
      "text/plain": [
       "['mein', 'khana', 'kha', 'rhi', 'hu']"
      ]
     },
     "execution_count": 11,
     "metadata": {},
     "output_type": "execute_result"
    }
   ],
   "source": [
    "text = 'mein khana kha rhi hu'\n",
    "words = text.split()\n",
    "words"
   ]
  },
  {
   "cell_type": "code",
   "execution_count": 12,
   "id": "9540abc9",
   "metadata": {},
   "outputs": [
    {
     "data": {
      "text/plain": [
       "'MY NAME IS dev AND AGE IS 21'"
      ]
     },
     "execution_count": 12,
     "metadata": {},
     "output_type": "execute_result"
    }
   ],
   "source": [
    " # string formatting\n",
    "'MY NAME IS {} AND AGE IS {}'.format('dev','21')  \n",
    "    "
   ]
  },
  {
   "cell_type": "code",
   "execution_count": 14,
   "id": "8a36808a",
   "metadata": {},
   "outputs": [
    {
     "data": {
      "text/plain": [
       "' computer'"
      ]
     },
     "execution_count": 14,
     "metadata": {},
     "output_type": "execute_result"
    }
   ],
   "source": [
    "s = ' computer'\n",
    "tt = s.translate({'p':'pp','t':'tt'})\n",
    "tt"
   ]
  },
  {
   "cell_type": "code",
   "execution_count": 15,
   "id": "83b6a6bd",
   "metadata": {},
   "outputs": [
    {
     "data": {
      "text/plain": [
       "{112: 'pp', 116: 'tt'}"
      ]
     },
     "execution_count": 15,
     "metadata": {},
     "output_type": "execute_result"
    }
   ],
   "source": [
    "tt = s.maketrans({'p':'pp','t':'tt'})\n",
    "tt"
   ]
  },
  {
   "cell_type": "code",
   "execution_count": 16,
   "id": "61e884b0",
   "metadata": {},
   "outputs": [
    {
     "data": {
      "text/plain": [
       "' compputter'"
      ]
     },
     "execution_count": 16,
     "metadata": {},
     "output_type": "execute_result"
    }
   ],
   "source": [
    "s.translate(tt)"
   ]
  },
  {
   "cell_type": "code",
   "execution_count": 18,
   "id": "3350a7ee",
   "metadata": {},
   "outputs": [
    {
     "data": {
      "text/plain": [
       "'ppushkar'"
      ]
     },
     "execution_count": 18,
     "metadata": {},
     "output_type": "execute_result"
    }
   ],
   "source": [
    "s1 = 'pushkar'\n",
    "s1.translate(tt)"
   ]
  },
  {
   "cell_type": "code",
   "execution_count": 19,
   "id": "9fa07d6e",
   "metadata": {},
   "outputs": [
    {
     "ename": "SyntaxError",
     "evalue": "invalid syntax (721979481.py, line 5)",
     "output_type": "error",
     "traceback": [
      "\u001b[1;36m  Input \u001b[1;32mIn [19]\u001b[1;36m\u001b[0m\n\u001b[1;33m    hike = 17%\u001b[0m\n\u001b[1;37m              ^\u001b[0m\n\u001b[1;31mSyntaxError\u001b[0m\u001b[1;31m:\u001b[0m invalid syntax\n"
     ]
    }
   ],
   "source": [
    "# ASSIGNMENT 4\n",
    "# GIVE A COMMA SEPARATED NUMBERIC VALUE\n",
    "# CALCULATE HIKE VALUE\n",
    "value = '12,56,23'\n",
    "hike = '17%''\n",
    "# calculate the hiked value\n",
    "newvalue = ?\n",
    "print(newvalue)"
   ]
  },
  {
   "cell_type": "code",
   "execution_count": 2,
   "id": "fa0c4587",
   "metadata": {},
   "outputs": [
    {
     "name": "stdout",
     "output_type": "stream",
     "text": [
      "enter no. one :67\n",
      "enter no. two :78\n",
      "diff: 11\n",
      "negative\n"
     ]
    }
   ],
   "source": [
    "# EXCERCISE 1\n",
    "# loop\n",
    "# write a program to determine if the result was positive, negative or zero\n",
    "# after substracting two numbers\n",
    "# input\n",
    "a = int(input(\"enter no. one :\"))\n",
    "b = int(input(\"enter no. two :\"))\n",
    "# process\n",
    "res = a - b\n",
    "print('diff:',abs(a-b))\n",
    "if (res > 0):\n",
    "    print('postive')\n",
    "elif (res < 0):\n",
    "    print('negative')\n",
    "else:\n",
    "    print(\"zero\")\n",
    "    \n",
    "\n"
   ]
  },
  {
   "cell_type": "code",
   "execution_count": null,
   "id": "9b9b57ce",
   "metadata": {},
   "outputs": [],
   "source": [
    "# list\n",
    "L = [\"RED\"]"
   ]
  }
 ],
 "metadata": {
  "kernelspec": {
   "display_name": "Python 3 (ipykernel)",
   "language": "python",
   "name": "python3"
  },
  "language_info": {
   "codemirror_mode": {
    "name": "ipython",
    "version": 3
   },
   "file_extension": ".py",
   "mimetype": "text/x-python",
   "name": "python",
   "nbconvert_exporter": "python",
   "pygments_lexer": "ipython3",
   "version": "3.9.12"
  }
 },
 "nbformat": 4,
 "nbformat_minor": 5
}
