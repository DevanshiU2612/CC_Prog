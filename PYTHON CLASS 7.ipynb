{
 "cells": [
  {
   "cell_type": "code",
   "execution_count": 1,
   "id": "8e181a3f",
   "metadata": {},
   "outputs": [
    {
     "data": {
      "text/plain": [
       "<function __main__.<lambda>(a, b)>"
      ]
     },
     "execution_count": 1,
     "metadata": {},
     "output_type": "execute_result"
    }
   ],
   "source": [
    "# PYTHON FEATURES\n",
    "# LAMBDA EXPRESSIONS\n",
    "# It's an expression that can produce a function object\n",
    "f = lambda a,b : a+b #a,c : a+c  #1,2 : 1+2\n",
    "f"
   ]
  },
  {
   "cell_type": "code",
   "execution_count": 2,
   "id": "3ae35029",
   "metadata": {},
   "outputs": [
    {
     "data": {
      "text/plain": [
       "350"
      ]
     },
     "execution_count": 2,
     "metadata": {},
     "output_type": "execute_result"
    }
   ],
   "source": [
    "f(100,250)"
   ]
  },
  {
   "cell_type": "code",
   "execution_count": 3,
   "id": "b2896db1",
   "metadata": {},
   "outputs": [
    {
     "data": {
      "text/plain": [
       "[1, 23, 45, 12, 34, 567]"
      ]
     },
     "execution_count": 3,
     "metadata": {},
     "output_type": "execute_result"
    }
   ],
   "source": [
    "f([1,23,45],[12,34,567])\n",
    "#list1 + list2 = list"
   ]
  },
  {
   "cell_type": "code",
   "execution_count": 4,
   "id": "23b1493c",
   "metadata": {},
   "outputs": [
    {
     "data": {
      "text/plain": [
       "['abc', 'def', 'ghi', 'jkl']"
      ]
     },
     "execution_count": 4,
     "metadata": {},
     "output_type": "execute_result"
    }
   ],
   "source": [
    "f(['abc','def'],['ghi','jkl'])"
   ]
  },
  {
   "cell_type": "code",
   "execution_count": 5,
   "id": "213e9e37",
   "metadata": {},
   "outputs": [
    {
     "data": {
      "text/plain": [
       "<function __main__.<lambda>(cm)>"
      ]
     },
     "execution_count": 5,
     "metadata": {},
     "output_type": "execute_result"
    }
   ],
   "source": [
    "#conversion of cm into inches using lambda\n",
    "cm2inches = lambda cm:cm/2.9\n",
    "cm2inches"
   ]
  },
  {
   "cell_type": "code",
   "execution_count": 6,
   "id": "9cade8c4",
   "metadata": {},
   "outputs": [
    {
     "data": {
      "text/plain": [
       "34.48275862068966"
      ]
     },
     "execution_count": 6,
     "metadata": {},
     "output_type": "execute_result"
    }
   ],
   "source": [
    "cm2inches(100)"
   ]
  },
  {
   "cell_type": "code",
   "execution_count": 7,
   "id": "aeccaf67",
   "metadata": {},
   "outputs": [
    {
     "data": {
      "text/plain": [
       "28.0"
      ]
     },
     "execution_count": 7,
     "metadata": {},
     "output_type": "execute_result"
    }
   ],
   "source": [
    "cm2inches(56)"
   ]
  },
  {
   "cell_type": "code",
   "execution_count": 3,
   "id": "f416c6fc",
   "metadata": {},
   "outputs": [],
   "source": [
    "L = ['red','green','blue','yellow','pink']\n"
   ]
  },
  {
   "cell_type": "code",
   "execution_count": 4,
   "id": "8ba91ade",
   "metadata": {},
   "outputs": [
    {
     "data": {
      "text/plain": [
       "['blue', 'green', 'pink', 'red', 'yellow']"
      ]
     },
     "execution_count": 4,
     "metadata": {},
     "output_type": "execute_result"
    }
   ],
   "source": [
    "L.sort() \n",
    "L  #ascending order"
   ]
  },
  {
   "cell_type": "code",
   "execution_count": 4,
   "id": "a34a64bb",
   "metadata": {},
   "outputs": [
    {
     "data": {
      "text/plain": [
       "['blue', 'green', 'pink', 'red', 'yellow']"
      ]
     },
     "execution_count": 4,
     "metadata": {},
     "output_type": "execute_result"
    }
   ],
   "source": [
    "L"
   ]
  },
  {
   "cell_type": "code",
   "execution_count": 22,
   "id": "0f815602",
   "metadata": {},
   "outputs": [],
   "source": [
    "#------------------------------------------map()\n",
    "T = [12,45,67,34,67] #LIST OF TEMPERATURES\n",
    "F = [] #BLANK LIST\n",
    "for t in T:\n",
    "    tf = t*1.8+32   #CONVERT INTO FARHEIN\n",
    "    F.append(tf)  #USE APPEND TO ADD ELEMENTS"
   ]
  },
  {
   "cell_type": "code",
   "execution_count": 23,
   "id": "e43ef5eb",
   "metadata": {},
   "outputs": [
    {
     "data": {
      "text/plain": [
       "[53.6, 113.0, 152.60000000000002, 93.2, 152.60000000000002]"
      ]
     },
     "execution_count": 23,
     "metadata": {},
     "output_type": "execute_result"
    }
   ],
   "source": [
    "F"
   ]
  },
  {
   "cell_type": "code",
   "execution_count": 14,
   "id": "f6f393fa",
   "metadata": {},
   "outputs": [
    {
     "data": {
      "text/plain": [
       "[12, 45, 67, 34, 67]"
      ]
     },
     "execution_count": 14,
     "metadata": {},
     "output_type": "execute_result"
    }
   ],
   "source": [
    "T"
   ]
  },
  {
   "cell_type": "code",
   "execution_count": 18,
   "id": "098bf026",
   "metadata": {},
   "outputs": [
    {
     "data": {
      "text/plain": [
       "[93.2, 132.8, 172.4, 132.8]"
      ]
     },
     "execution_count": 18,
     "metadata": {},
     "output_type": "execute_result"
    }
   ],
   "source": [
    "T2=[34,56,78,56]   #map= each item in iterable\n",
    "F1 = map(lambda t : t * 1.8+32,T2)\n",
    "list(F1)"
   ]
  },
  {
   "cell_type": "code",
   "execution_count": 28,
   "id": "d5cafffe",
   "metadata": {},
   "outputs": [
    {
     "data": {
      "text/plain": [
       "[24, 68, 112, 156]"
      ]
     },
     "execution_count": 28,
     "metadata": {},
     "output_type": "execute_result"
    }
   ],
   "source": [
    "L = [12,34,56,78]\n",
    "L2 = map(lambda l : l * 2,L)\n",
    "list(L2)"
   ]
  },
  {
   "cell_type": "code",
   "execution_count": 36,
   "id": "f6860830",
   "metadata": {},
   "outputs": [
    {
     "data": {
      "text/plain": [
       "[11.5, 28.0, 39.0, 17.0]"
      ]
     },
     "execution_count": 36,
     "metadata": {},
     "output_type": "execute_result"
    }
   ],
   "source": [
    "# ASSIGNMENT 8\n",
    "# print the elements of the given list divided by 2 by using map function\n",
    "y=[23,56,78,34]\n",
    "L3 = map(lambda l : l/2,y)\n",
    "list(L3)"
   ]
  },
  {
   "cell_type": "code",
   "execution_count": 58,
   "id": "3d43565e",
   "metadata": {},
   "outputs": [
    {
     "data": {
      "text/plain": [
       "49"
      ]
     },
     "execution_count": 58,
     "metadata": {},
     "output_type": "execute_result"
    }
   ],
   "source": [
    "# ---------------------------filter()\n",
    "#random =  to print random values\n",
    "import random\n",
    "random.randint(1,100)\n",
    "\n"
   ]
  },
  {
   "cell_type": "code",
   "execution_count": 55,
   "id": "3901e9a9",
   "metadata": {},
   "outputs": [
    {
     "data": {
      "text/plain": [
       "7"
      ]
     },
     "execution_count": 55,
     "metadata": {},
     "output_type": "execute_result"
    }
   ],
   "source": [
    "random.randint(2,10)"
   ]
  },
  {
   "cell_type": "code",
   "execution_count": 66,
   "id": "b77500ae",
   "metadata": {},
   "outputs": [],
   "source": [
    "E = []  #blank list\n",
    "for i in range(6):\n",
    "    E.append(random.randint(1,15))"
   ]
  },
  {
   "cell_type": "code",
   "execution_count": 67,
   "id": "01b4557b",
   "metadata": {},
   "outputs": [
    {
     "data": {
      "text/plain": [
       "[1, 13, 4, 9, 2, 13]"
      ]
     },
     "execution_count": 67,
     "metadata": {},
     "output_type": "execute_result"
    }
   ],
   "source": [
    "E"
   ]
  },
  {
   "cell_type": "code",
   "execution_count": null,
   "id": "fe263fe0",
   "metadata": {},
   "outputs": [],
   "source": [
    "#ASSINGNMENT - 9\n",
    "#PRINT A RANDOM NUMBER LIST BETWEEN 25 TO 50 \n"
   ]
  }
 ],
 "metadata": {
  "kernelspec": {
   "display_name": "Python 3 (ipykernel)",
   "language": "python",
   "name": "python3"
  },
  "language_info": {
   "codemirror_mode": {
    "name": "ipython",
    "version": 3
   },
   "file_extension": ".py",
   "mimetype": "text/x-python",
   "name": "python",
   "nbconvert_exporter": "python",
   "pygments_lexer": "ipython3",
   "version": "3.9.12"
  }
 },
 "nbformat": 4,
 "nbformat_minor": 5
}
