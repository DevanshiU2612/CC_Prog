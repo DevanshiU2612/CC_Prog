{
 "cells": [
  {
   "cell_type": "code",
   "execution_count": 28,
   "id": "722f0e51",
   "metadata": {},
   "outputs": [
    {
     "ename": "TypeError",
     "evalue": "employee() takes no arguments",
     "output_type": "error",
     "traceback": [
      "\u001b[1;31m---------------------------------------------------------------------------\u001b[0m",
      "\u001b[1;31mTypeError\u001b[0m                                 Traceback (most recent call last)",
      "Input \u001b[1;32mIn [28]\u001b[0m, in \u001b[0;36m<cell line: 51>\u001b[1;34m()\u001b[0m\n\u001b[0;32m     44\u001b[0m     \u001b[38;5;28;01mpass\u001b[39;00m\n\u001b[0;32m     47\u001b[0m \u001b[38;5;66;03m#_-----------------------------------------------\u001b[39;00m\n\u001b[1;32m---> 51\u001b[0m emp \u001b[38;5;241m=\u001b[39m \u001b[43memployee\u001b[49m\u001b[43m(\u001b[49m\u001b[38;5;124;43m\"\u001b[39;49m\u001b[38;5;124;43mSita\u001b[39;49m\u001b[38;5;124;43m\"\u001b[39;49m\u001b[43m,\u001b[49m\u001b[43m \u001b[49m\u001b[38;5;241;43m34\u001b[39;49m\u001b[43m,\u001b[49m\u001b[43m \u001b[49m\u001b[38;5;124;43m\"\u001b[39;49m\u001b[38;5;124;43mInfosys\u001b[39;49m\u001b[38;5;124;43m\"\u001b[39;49m\u001b[43m,\u001b[49m\u001b[43m \u001b[49m\u001b[38;5;241;43m15000\u001b[39;49m\u001b[43m)\u001b[49m\n\u001b[0;32m     52\u001b[0m emp\u001b[38;5;241m.\u001b[39mprintinfo()\n\u001b[0;32m     53\u001b[0m \u001b[38;5;28mprint\u001b[39m()\n",
      "\u001b[1;31mTypeError\u001b[0m: employee() takes no arguments"
     ]
    }
   ],
   "source": [
    "'''\n",
    "name\n",
    "age\n",
    "company\n",
    "salary\n",
    "tax\n",
    "hike\n",
    "\n",
    "printinfo, calctax, calchike\n",
    "\n",
    "'''\n",
    "# Class variable\n",
    "class employee:\n",
    "    empCount = 0\n",
    "    \n",
    "# data \n",
    "def __init__(self,name,age,company,salary,tax,hike):\n",
    "    self.name = name\n",
    "    self.age = age\n",
    "    self.company = company\n",
    "    self.salary = salary\n",
    "    self.tax = 0\n",
    "    self.hike = 0\n",
    "    employee.empCount += 1\n",
    "# methods\n",
    "\n",
    "def printinfo(self):\n",
    "    print(\"NAME  :\", self.name)\n",
    "    print(\"AGE   :\", self.age)\n",
    "    print(\"COMPANY :\",self.company)\n",
    "    print(\"-----------------------------------------\")\n",
    "    print(\"SALARY :\",self.salary)\n",
    "    print(\"TAX  :\",self.tax)\n",
    "    print(\"-----------------------------------------\")\n",
    "    print(\"NET SALARY :\",self.salary - self.tax)\n",
    "\n",
    "def calctax(self, taxpct):\n",
    "    self.tax = self.salary * (taxpct/100)\n",
    "    \n",
    "def calchike(self, hikepct):\n",
    "    self.salary = self.salary + self.salary * (hikepct/100)\n",
    "    \n",
    "def setsalary(self,salary) :\n",
    "    pass\n",
    "\n",
    "\n",
    "#_-----------------------------------------------\n",
    "\n",
    "\n",
    "\n",
    "emp = employee(\"Sita\", 34, \"Infosys\", 15000)\n",
    "emp.printinfo()\n",
    "print()\n",
    "emp.calctax(17)\n",
    "emp.printinfo()\n",
    "print()\n",
    "emp.calchike(10)\n",
    "emp.calctax(17)\n",
    "emp.printinfo()\n",
    "\n",
    "emp1 = employee(\"Seema\", 23, \"Infosys\", 20000)\n",
    "emp2 = employee(\"Ashu\", 27, \"Infosys\", 25000)\n",
    "\n",
    "print(\"number of employees:\", emp.empCount)"
   ]
  },
  {
   "cell_type": "code",
   "execution_count": 22,
   "id": "b4c920c1",
   "metadata": {},
   "outputs": [
    {
     "name": "stdout",
     "output_type": "stream",
     "text": [
      "<class '__main__.Myclass'>\n"
     ]
    }
   ],
   "source": [
    "# creating class\n",
    "class Myclass:\n",
    "    x  = 8\n",
    "print(Myclass)"
   ]
  },
  {
   "cell_type": "code",
   "execution_count": 27,
   "id": "56013042",
   "metadata": {},
   "outputs": [
    {
     "name": "stdout",
     "output_type": "stream",
     "text": [
      "tushar\n",
      "nilesh\n",
      "21\n",
      "20\n"
     ]
    }
   ],
   "source": [
    "# self is used to access variables that belongs to the class\n",
    "# create class\n",
    "class student:\n",
    "#data\n",
    "\n",
    "    def __init__(self,name,age):\n",
    "        self.name = name\n",
    "        self.age = age\n",
    "# methods        \n",
    "p = student(\"tushar\",21)\n",
    "p1 = student(\"nilesh\",20)\n",
    "print(p.name)\n",
    "print(p1.name)\n",
    "print(p.age)\n",
    "print(p1.age)"
   ]
  },
  {
   "cell_type": "code",
   "execution_count": null,
   "id": "ffec3ff4",
   "metadata": {},
   "outputs": [],
   "source": []
  }
 ],
 "metadata": {
  "kernelspec": {
   "display_name": "Python 3 (ipykernel)",
   "language": "python",
   "name": "python3"
  },
  "language_info": {
   "codemirror_mode": {
    "name": "ipython",
    "version": 3
   },
   "file_extension": ".py",
   "mimetype": "text/x-python",
   "name": "python",
   "nbconvert_exporter": "python",
   "pygments_lexer": "ipython3",
   "version": "3.9.12"
  }
 },
 "nbformat": 4,
 "nbformat_minor": 5
}
