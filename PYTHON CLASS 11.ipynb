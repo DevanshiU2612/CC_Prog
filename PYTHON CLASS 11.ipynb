{
 "cells": [
  {
   "cell_type": "code",
   "execution_count": 4,
   "id": "f378ecb4",
   "metadata": {},
   "outputs": [],
   "source": [
    "# FILE HANDLING\n",
    "f = open('song.txt','r')\n"
   ]
  },
  {
   "cell_type": "code",
   "execution_count": 2,
   "id": "ac657c10",
   "metadata": {},
   "outputs": [
    {
     "data": {
      "text/plain": [
       "<_io.TextIOWrapper name='song.txt' mode='r' encoding='cp1252'>"
      ]
     },
     "execution_count": 2,
     "metadata": {},
     "output_type": "execute_result"
    }
   ],
   "source": [
    "f"
   ]
  },
  {
   "cell_type": "code",
   "execution_count": 5,
   "id": "49a55915",
   "metadata": {},
   "outputs": [
    {
     "data": {
      "text/plain": [
       "'Shayaid Kabhii Na Kah Saku Mai Tum Ko\\nKahay Bina Samaj Lo Tum Shayaid\\nShayad Merey Khayaal Mein Tum Ek Din\\nMilo Mujhey Kahi Pay Gum Shayaid\\n\\nJo Tum Na Ho Rahay Gay Hum Nahi\\nJo Tum Na Ho Rahay Gay Hum Nahi\\nNa Chahiye Kuch Tum\\n\\nJyada Tum Say Kam Nahin\\n\\nJo Tum Na Ho Toh Hum Bhi Hum Nahi\\nJo Tum Na Ho Toh Hum Bhi Hum Nahi\\nNa Chahiye Kuch Tum Say\\nJyada Tum Say Kam Nahin\\n\\nAankhun Ko Khawaab Dayna\\nKhud He Sawaal Kar K\\nKhud He Jawab Dayna Teri Taraf Say'"
      ]
     },
     "execution_count": 5,
     "metadata": {},
     "output_type": "execute_result"
    }
   ],
   "source": [
    "f.read()"
   ]
  },
  {
   "cell_type": "code",
   "execution_count": 6,
   "id": "fc716973",
   "metadata": {},
   "outputs": [
    {
     "data": {
      "text/plain": [
       "448"
      ]
     },
     "execution_count": 6,
     "metadata": {},
     "output_type": "execute_result"
    }
   ],
   "source": [
    "f.tell()\n",
    "# end of the file"
   ]
  },
  {
   "cell_type": "code",
   "execution_count": 11,
   "id": "e206673f",
   "metadata": {},
   "outputs": [
    {
     "data": {
      "text/plain": [
       "0"
      ]
     },
     "execution_count": 11,
     "metadata": {},
     "output_type": "execute_result"
    }
   ],
   "source": [
    "f.seek(0)  # reset to the beginnig of the file"
   ]
  },
  {
   "cell_type": "code",
   "execution_count": 12,
   "id": "a8616d39",
   "metadata": {},
   "outputs": [],
   "source": [
    "text = f.read()"
   ]
  },
  {
   "cell_type": "code",
   "execution_count": 13,
   "id": "411f748a",
   "metadata": {},
   "outputs": [
    {
     "data": {
      "text/plain": [
       "str"
      ]
     },
     "execution_count": 13,
     "metadata": {},
     "output_type": "execute_result"
    }
   ],
   "source": [
    "type(text)"
   ]
  },
  {
   "cell_type": "code",
   "execution_count": 14,
   "id": "9923f942",
   "metadata": {},
   "outputs": [
    {
     "name": "stdout",
     "output_type": "stream",
     "text": [
      "Shayaid Kabhii Na Kah Saku Mai Tum Ko\n",
      "Kahay Bina Samaj Lo Tum Shayaid\n",
      "Shayad Merey Khayaal Mein Tum Ek Din\n",
      "Milo Mujhey Kahi Pay Gum Shayaid\n",
      "\n",
      "Jo Tum Na Ho Rahay Gay Hum Nahi\n",
      "Jo Tum Na Ho Rahay Gay Hum Nahi\n",
      "Na Chahiye Kuch Tum\n",
      "\n",
      "Jyada Tum Say Kam Nahin\n",
      "\n",
      "Jo Tum Na Ho Toh Hum Bhi Hum Nahi\n",
      "Jo Tum Na Ho Toh Hum Bhi Hum Nahi\n",
      "Na Chahiye Kuch Tum Say\n",
      "Jyada Tum Say Kam Nahin\n",
      "\n",
      "Aankhun Ko Khawaab Dayna\n",
      "Khud He Sawaal Kar K\n",
      "Khud He Jawab Dayna Teri Taraf Say\n"
     ]
    }
   ],
   "source": [
    "print(text)"
   ]
  },
  {
   "cell_type": "code",
   "execution_count": 15,
   "id": "d1440315",
   "metadata": {},
   "outputs": [
    {
     "data": {
      "text/plain": [
       "0"
      ]
     },
     "execution_count": 15,
     "metadata": {},
     "output_type": "execute_result"
    }
   ],
   "source": [
    "f.seek(0)"
   ]
  },
  {
   "cell_type": "code",
   "execution_count": 16,
   "id": "6feccd55",
   "metadata": {},
   "outputs": [
    {
     "data": {
      "text/plain": [
       "'Shayaid Ka'"
      ]
     },
     "execution_count": 16,
     "metadata": {},
     "output_type": "execute_result"
    }
   ],
   "source": [
    "f.read(10)  # read only 10 bytes of data"
   ]
  },
  {
   "cell_type": "code",
   "execution_count": 17,
   "id": "fcff4021",
   "metadata": {},
   "outputs": [
    {
     "data": {
      "text/plain": [
       "'bhii Na Ka'"
      ]
     },
     "execution_count": 17,
     "metadata": {},
     "output_type": "execute_result"
    }
   ],
   "source": [
    "f.read(10)"
   ]
  },
  {
   "cell_type": "code",
   "execution_count": 18,
   "id": "1b963bdc",
   "metadata": {},
   "outputs": [
    {
     "data": {
      "text/plain": [
       "0"
      ]
     },
     "execution_count": 18,
     "metadata": {},
     "output_type": "execute_result"
    }
   ],
   "source": [
    "f.seek(0)"
   ]
  },
  {
   "cell_type": "code",
   "execution_count": 19,
   "id": "dbb6d631",
   "metadata": {},
   "outputs": [
    {
     "data": {
      "text/plain": [
       "'Shayaid Kabhii Na Kah Saku Mai Tum Ko\\n'"
      ]
     },
     "execution_count": 19,
     "metadata": {},
     "output_type": "execute_result"
    }
   ],
   "source": [
    "f.readline()"
   ]
  },
  {
   "cell_type": "code",
   "execution_count": 20,
   "id": "0edeb52c",
   "metadata": {},
   "outputs": [
    {
     "data": {
      "text/plain": [
       "'Kahay Bina Samaj Lo Tum Shayaid\\n'"
      ]
     },
     "execution_count": 20,
     "metadata": {},
     "output_type": "execute_result"
    }
   ],
   "source": [
    "f.readline()"
   ]
  },
  {
   "cell_type": "code",
   "execution_count": 21,
   "id": "b474170e",
   "metadata": {},
   "outputs": [
    {
     "data": {
      "text/plain": [
       "'Shayad Merey Khayaal Mein Tum Ek Din\\n'"
      ]
     },
     "execution_count": 21,
     "metadata": {},
     "output_type": "execute_result"
    }
   ],
   "source": [
    "f.readline()"
   ]
  },
  {
   "cell_type": "code",
   "execution_count": 22,
   "id": "356b0b61",
   "metadata": {},
   "outputs": [
    {
     "data": {
      "text/plain": [
       "0"
      ]
     },
     "execution_count": 22,
     "metadata": {},
     "output_type": "execute_result"
    }
   ],
   "source": [
    "f.seek(0)"
   ]
  },
  {
   "cell_type": "code",
   "execution_count": 23,
   "id": "6fdc4765",
   "metadata": {},
   "outputs": [],
   "source": [
    "content = f.readline() # list of lines"
   ]
  },
  {
   "cell_type": "code",
   "execution_count": 25,
   "id": "01532e47",
   "metadata": {},
   "outputs": [
    {
     "data": {
      "text/plain": [
       "'h'"
      ]
     },
     "execution_count": 25,
     "metadata": {},
     "output_type": "execute_result"
    }
   ],
   "source": [
    "content[1]"
   ]
  },
  {
   "cell_type": "code",
   "execution_count": 26,
   "id": "5bf876de",
   "metadata": {},
   "outputs": [
    {
     "data": {
      "text/plain": [
       "0"
      ]
     },
     "execution_count": 26,
     "metadata": {},
     "output_type": "execute_result"
    }
   ],
   "source": [
    "f.seek(0)"
   ]
  },
  {
   "cell_type": "code",
   "execution_count": 27,
   "id": "5d590340",
   "metadata": {},
   "outputs": [],
   "source": [
    "content = f.readlines()"
   ]
  },
  {
   "cell_type": "code",
   "execution_count": 28,
   "id": "f03f802d",
   "metadata": {},
   "outputs": [
    {
     "data": {
      "text/plain": [
       "'Kahay Bina Samaj Lo Tum Shayaid\\n'"
      ]
     },
     "execution_count": 28,
     "metadata": {},
     "output_type": "execute_result"
    }
   ],
   "source": [
    "content[1]"
   ]
  },
  {
   "cell_type": "code",
   "execution_count": 29,
   "id": "288a4b0a",
   "metadata": {},
   "outputs": [
    {
     "data": {
      "text/plain": [
       "['Kahay Bina Samaj Lo Tum Shayaid\\n',\n",
       " 'Shayad Merey Khayaal Mein Tum Ek Din\\n',\n",
       " 'Milo Mujhey Kahi Pay Gum Shayaid\\n',\n",
       " '\\n',\n",
       " 'Jo Tum Na Ho Rahay Gay Hum Nahi\\n',\n",
       " 'Jo Tum Na Ho Rahay Gay Hum Nahi\\n',\n",
       " 'Na Chahiye Kuch Tum\\n',\n",
       " '\\n',\n",
       " 'Jyada Tum Say Kam Nahin\\n']"
      ]
     },
     "execution_count": 29,
     "metadata": {},
     "output_type": "execute_result"
    }
   ],
   "source": [
    "content[1:10]"
   ]
  },
  {
   "cell_type": "code",
   "execution_count": 30,
   "id": "b96b45f9",
   "metadata": {},
   "outputs": [
    {
     "data": {
      "text/plain": [
       "['Khud He Jawab Dayna Teri Taraf Say',\n",
       " 'Khud He Sawaal Kar K\\n',\n",
       " 'Aankhun Ko Khawaab Dayna\\n',\n",
       " '\\n',\n",
       " 'Jyada Tum Say Kam Nahin\\n',\n",
       " 'Na Chahiye Kuch Tum Say\\n',\n",
       " 'Jo Tum Na Ho Toh Hum Bhi Hum Nahi\\n',\n",
       " 'Jo Tum Na Ho Toh Hum Bhi Hum Nahi\\n',\n",
       " '\\n',\n",
       " 'Jyada Tum Say Kam Nahin\\n',\n",
       " '\\n',\n",
       " 'Na Chahiye Kuch Tum\\n',\n",
       " 'Jo Tum Na Ho Rahay Gay Hum Nahi\\n',\n",
       " 'Jo Tum Na Ho Rahay Gay Hum Nahi\\n',\n",
       " '\\n',\n",
       " 'Milo Mujhey Kahi Pay Gum Shayaid\\n',\n",
       " 'Shayad Merey Khayaal Mein Tum Ek Din\\n',\n",
       " 'Kahay Bina Samaj Lo Tum Shayaid\\n',\n",
       " 'Shayaid Kabhii Na Kah Saku Mai Tum Ko\\n']"
      ]
     },
     "execution_count": 30,
     "metadata": {},
     "output_type": "execute_result"
    }
   ],
   "source": [
    "content[::-1]"
   ]
  },
  {
   "cell_type": "code",
   "execution_count": 31,
   "id": "bb51f842",
   "metadata": {},
   "outputs": [],
   "source": [
    "f.close()"
   ]
  },
  {
   "cell_type": "code",
   "execution_count": 32,
   "id": "1666eeed",
   "metadata": {},
   "outputs": [
    {
     "data": {
      "text/plain": [
       "'Shayaid Kabhii Na Kah Saku Mai Tum Ko\\nKahay Bina Samaj Lo Tum Shayaid\\nShayad Merey Khayaal Mein Tum Ek Din\\nMilo Mujhey Kahi Pay Gum Shayaid\\n\\nJo Tum Na Ho Rahay Gay Hum Nahi\\nJo Tum Na Ho Rahay Gay Hum Nahi\\nNa Chahiye Kuch Tum\\n\\nJyada Tum Say Kam Nahin\\n\\nJo Tum Na Ho Toh Hum Bhi Hum Nahi\\nJo Tum Na Ho Toh Hum Bhi Hum Nahi\\nNa Chahiye Kuch Tum Say\\nJyada Tum Say Kam Nahin\\n\\nAankhun Ko Khawaab Dayna\\nKhud He Sawaal Kar K\\nKhud He Jawab Dayna Teri Taraf Say'"
      ]
     },
     "execution_count": 32,
     "metadata": {},
     "output_type": "execute_result"
    }
   ],
   "source": [
    "#processing\n",
    "text"
   ]
  },
  {
   "cell_type": "code",
   "execution_count": 34,
   "id": "85e1f22d",
   "metadata": {},
   "outputs": [
    {
     "data": {
      "text/plain": [
       "3"
      ]
     },
     "execution_count": 34,
     "metadata": {},
     "output_type": "execute_result"
    }
   ],
   "source": [
    "text.count('Shayaid')"
   ]
  },
  {
   "cell_type": "code",
   "execution_count": 35,
   "id": "d29a8b27",
   "metadata": {},
   "outputs": [],
   "source": [
    "words = text.split()"
   ]
  },
  {
   "cell_type": "code",
   "execution_count": 36,
   "id": "36870224",
   "metadata": {},
   "outputs": [],
   "source": [
    "from collections import Counter "
   ]
  },
  {
   "cell_type": "code",
   "execution_count": 37,
   "id": "994cb481",
   "metadata": {},
   "outputs": [],
   "source": [
    "z = Counter(words)"
   ]
  },
  {
   "cell_type": "code",
   "execution_count": 38,
   "id": "f0c2e16a",
   "metadata": {},
   "outputs": [
    {
     "data": {
      "text/plain": [
       "Counter({'Shayaid': 3,\n",
       "         'Kabhii': 1,\n",
       "         'Na': 7,\n",
       "         'Kah': 1,\n",
       "         'Saku': 1,\n",
       "         'Mai': 1,\n",
       "         'Tum': 11,\n",
       "         'Ko': 2,\n",
       "         'Kahay': 1,\n",
       "         'Bina': 1,\n",
       "         'Samaj': 1,\n",
       "         'Lo': 1,\n",
       "         'Shayad': 1,\n",
       "         'Merey': 1,\n",
       "         'Khayaal': 1,\n",
       "         'Mein': 1,\n",
       "         'Ek': 1,\n",
       "         'Din': 1,\n",
       "         'Milo': 1,\n",
       "         'Mujhey': 1,\n",
       "         'Kahi': 1,\n",
       "         'Pay': 1,\n",
       "         'Gum': 1,\n",
       "         'Jo': 4,\n",
       "         'Ho': 4,\n",
       "         'Rahay': 2,\n",
       "         'Gay': 2,\n",
       "         'Hum': 6,\n",
       "         'Nahi': 4,\n",
       "         'Chahiye': 2,\n",
       "         'Kuch': 2,\n",
       "         'Jyada': 2,\n",
       "         'Say': 4,\n",
       "         'Kam': 2,\n",
       "         'Nahin': 2,\n",
       "         'Toh': 2,\n",
       "         'Bhi': 2,\n",
       "         'Aankhun': 1,\n",
       "         'Khawaab': 1,\n",
       "         'Dayna': 2,\n",
       "         'Khud': 2,\n",
       "         'He': 2,\n",
       "         'Sawaal': 1,\n",
       "         'Kar': 1,\n",
       "         'K': 1,\n",
       "         'Jawab': 1,\n",
       "         'Teri': 1,\n",
       "         'Taraf': 1})"
      ]
     },
     "execution_count": 38,
     "metadata": {},
     "output_type": "execute_result"
    }
   ],
   "source": [
    "z"
   ]
  },
  {
   "cell_type": "code",
   "execution_count": null,
   "id": "4ac1ee65",
   "metadata": {},
   "outputs": [],
   "source": []
  }
 ],
 "metadata": {
  "kernelspec": {
   "display_name": "Python 3 (ipykernel)",
   "language": "python",
   "name": "python3"
  },
  "language_info": {
   "codemirror_mode": {
    "name": "ipython",
    "version": 3
   },
   "file_extension": ".py",
   "mimetype": "text/x-python",
   "name": "python",
   "nbconvert_exporter": "python",
   "pygments_lexer": "ipython3",
   "version": "3.9.12"
  }
 },
 "nbformat": 4,
 "nbformat_minor": 5
}
