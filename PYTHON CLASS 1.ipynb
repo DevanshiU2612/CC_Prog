{
 "cells": [
  {
   "cell_type": "code",
   "execution_count": 1,
   "id": "02a9826b",
   "metadata": {},
   "outputs": [
    {
     "name": "stdout",
     "output_type": "stream",
     "text": [
      "144\n"
     ]
    }
   ],
   "source": [
    "# UNDERSTANDING CONCEPT OF PROGRAMING\n",
    "a = 5\n",
    "b = 2\n",
    " \n",
    "# output = 144\n",
    "\n",
    "c1 = a * a #25\n",
    "c2 = c1 * a #125\n",
    "c3 = c1 + c2 # 150\n",
    "c4 = b * b  # 4\n",
    "c5 = c3 - c4 #146\n",
    "c6 = c5 - b #144\n",
    "print(c6)"
   ]
  },
  {
   "cell_type": "code",
   "execution_count": 2,
   "id": "64cb823b",
   "metadata": {},
   "outputs": [
    {
     "name": "stdout",
     "output_type": "stream",
     "text": [
      "144\n"
     ]
    }
   ],
   "source": [
    "# UNDERSTANDING CONCEPTS OF PROGRAMING\n",
    "# ONE PROGRAM CAN WRITE IN MANY WAYS\n",
    "c1 = a * b\n",
    "c2 = c1 + b\n",
    "c3 = c2 * c2\n",
    "print(c3)"
   ]
  },
  {
   "cell_type": "code",
   "execution_count": 3,
   "id": "e133b261",
   "metadata": {},
   "outputs": [
    {
     "name": "stdout",
     "output_type": "stream",
     "text": [
      "5\n"
     ]
    }
   ],
   "source": [
    "# PRINT IS USE TO PRINT THE VALUE\n",
    "print(a)"
   ]
  },
  {
   "cell_type": "code",
   "execution_count": 4,
   "id": "78c4d6e8",
   "metadata": {},
   "outputs": [
    {
     "name": "stdout",
     "output_type": "stream",
     "text": [
      "<class 'int'>\n"
     ]
    }
   ],
   "source": [
    "# TYPE IS USE TO PRINT THE DATA TYPE OF THE VALUE\n",
    "print(type(a))"
   ]
  },
  {
   "cell_type": "code",
   "execution_count": 6,
   "id": "b401ae8c",
   "metadata": {},
   "outputs": [
    {
     "name": "stdout",
     "output_type": "stream",
     "text": [
      "<class 'float'>\n"
     ]
    }
   ],
   "source": [
    "# DATA TYPES\n",
    "# PRINT INTERGER DATA TYPE\n",
    "a = 67.8\n",
    "print(type(a))"
   ]
  },
  {
   "cell_type": "code",
   "execution_count": 7,
   "id": "16af6767",
   "metadata": {},
   "outputs": [
    {
     "name": "stdout",
     "output_type": "stream",
     "text": [
      "<class 'bool'>\n"
     ]
    }
   ],
   "source": [
    "# PRINT BOOLEAN DATA TYPE\n",
    "a = True\n",
    "print(type(a))"
   ]
  },
  {
   "cell_type": "code",
   "execution_count": 9,
   "id": "63f79e06",
   "metadata": {},
   "outputs": [
    {
     "name": "stdout",
     "output_type": "stream",
     "text": [
      "<class 'str'>\n"
     ]
    }
   ],
   "source": [
    "# PRINT STRING\n",
    "a = \"false\"\n",
    "print(type(a))"
   ]
  },
  {
   "cell_type": "code",
   "execution_count": 12,
   "id": "45bbc373",
   "metadata": {},
   "outputs": [
    {
     "name": "stdout",
     "output_type": "stream",
     "text": [
      "number : 56\n",
      "56\n"
     ]
    }
   ],
   "source": [
    "# USER INTERACTIVE PROGRAM \n",
    "a = input(\"number : \")\n",
    "print(a)"
   ]
  },
  {
   "cell_type": "code",
   "execution_count": 16,
   "id": "7a0ce537",
   "metadata": {},
   "outputs": [
    {
     "name": "stdout",
     "output_type": "stream",
     "text": [
      "Enter number 1 :67\n",
      "Enter number 2 :567\n",
      "SUM 634\n"
     ]
    }
   ],
   "source": [
    "# just for understand the structure of python programs\n",
    "# PROGRAM TO ADD TWO NUMBERS\n",
    "# ASSIGNMENT 1\n",
    "\n",
    "# input\n",
    "a = input(\"Enter number 1 :\")\n",
    "b = input(\"Enter number 2 :\")   \n",
    "\n",
    "# process\n",
    "result = int(a) + int(b)\n",
    "\n",
    "# output\n",
    "print(\"SUM\",result)\n"
   ]
  },
  {
   "cell_type": "code",
   "execution_count": 17,
   "id": "442312c9",
   "metadata": {},
   "outputs": [
    {
     "name": "stdout",
     "output_type": "stream",
     "text": [
      " ENTER TEMPERATURE IN CELCIUS :45\n",
      "Temperature in farhenheit : 113.0\n"
     ]
    }
   ],
   "source": [
    "# PROGRAM TO CONVERT TEMPERATURE FROM CELCIUS TO FARHENHEIT\n",
    "# ASSIGNMENT 2\n",
    " \n",
    "# INPUT\n",
    "tc = input(\" ENTER TEMPERATURE IN CELCIUS :\")\n",
    "\n",
    "# PROCESS\n",
    "\n",
    "tf = float(tc) * 1.8 + 32\n",
    "\n",
    "# OUTPUT\n",
    "print(\"Temperature in farhenheit :\" , tf)\n"
   ]
  },
  {
   "cell_type": "code",
   "execution_count": 18,
   "id": "4e8a584a",
   "metadata": {},
   "outputs": [
    {
     "name": "stdout",
     "output_type": "stream",
     "text": [
      "17\n"
     ]
    }
   ],
   "source": [
    "# Operators\n",
    "# arithmetic operator\n",
    "a = 12\n",
    "b = 5\n",
    "c = a + b\n",
    "print(c)"
   ]
  },
  {
   "cell_type": "code",
   "execution_count": 19,
   "id": "7748284b",
   "metadata": {},
   "outputs": [
    {
     "data": {
      "text/plain": [
       "12"
      ]
     },
     "execution_count": 19,
     "metadata": {},
     "output_type": "execute_result"
    }
   ],
   "source": [
    "a"
   ]
  },
  {
   "cell_type": "code",
   "execution_count": 20,
   "id": "db57a5ae",
   "metadata": {},
   "outputs": [
    {
     "data": {
      "text/plain": [
       "7"
      ]
     },
     "execution_count": 20,
     "metadata": {},
     "output_type": "execute_result"
    }
   ],
   "source": [
    "a - b"
   ]
  },
  {
   "cell_type": "code",
   "execution_count": 21,
   "id": "5720a615",
   "metadata": {},
   "outputs": [
    {
     "data": {
      "text/plain": [
       "60"
      ]
     },
     "execution_count": 21,
     "metadata": {},
     "output_type": "execute_result"
    }
   ],
   "source": [
    "a * b"
   ]
  },
  {
   "cell_type": "code",
   "execution_count": 22,
   "id": "38bd8c2a",
   "metadata": {},
   "outputs": [
    {
     "data": {
      "text/plain": [
       "2.4"
      ]
     },
     "execution_count": 22,
     "metadata": {},
     "output_type": "execute_result"
    }
   ],
   "source": [
    "a / b"
   ]
  },
  {
   "cell_type": "code",
   "execution_count": 23,
   "id": "86e1731a",
   "metadata": {},
   "outputs": [
    {
     "data": {
      "text/plain": [
       "2"
      ]
     },
     "execution_count": 23,
     "metadata": {},
     "output_type": "execute_result"
    }
   ],
   "source": [
    "a % b # 12/5 # only quotient"
   ]
  },
  {
   "cell_type": "code",
   "execution_count": 24,
   "id": "a7a7eb14",
   "metadata": {},
   "outputs": [
    {
     "data": {
      "text/plain": [
       "2"
      ]
     },
     "execution_count": 24,
     "metadata": {},
     "output_type": "execute_result"
    }
   ],
   "source": [
    "a // b # output remainder "
   ]
  },
  {
   "cell_type": "code",
   "execution_count": 25,
   "id": "172c4add",
   "metadata": {},
   "outputs": [
    {
     "data": {
      "text/plain": [
       "True"
      ]
     },
     "execution_count": 25,
     "metadata": {},
     "output_type": "execute_result"
    }
   ],
   "source": [
    "# relational operator\n",
    "a > b"
   ]
  },
  {
   "cell_type": "code",
   "execution_count": 26,
   "id": "f6f2e19d",
   "metadata": {},
   "outputs": [
    {
     "data": {
      "text/plain": [
       "False"
      ]
     },
     "execution_count": 26,
     "metadata": {},
     "output_type": "execute_result"
    }
   ],
   "source": [
    "a < b"
   ]
  },
  {
   "cell_type": "code",
   "execution_count": 27,
   "id": "0dbac20c",
   "metadata": {},
   "outputs": [
    {
     "data": {
      "text/plain": [
       "True"
      ]
     },
     "execution_count": 27,
     "metadata": {},
     "output_type": "execute_result"
    }
   ],
   "source": [
    "a >= b"
   ]
  },
  {
   "cell_type": "code",
   "execution_count": 28,
   "id": "5c354b28",
   "metadata": {},
   "outputs": [
    {
     "data": {
      "text/plain": [
       "False"
      ]
     },
     "execution_count": 28,
     "metadata": {},
     "output_type": "execute_result"
    }
   ],
   "source": [
    "a <= b"
   ]
  },
  {
   "cell_type": "code",
   "execution_count": 29,
   "id": "dd04b921",
   "metadata": {},
   "outputs": [
    {
     "data": {
      "text/plain": [
       "False"
      ]
     },
     "execution_count": 29,
     "metadata": {},
     "output_type": "execute_result"
    }
   ],
   "source": [
    "a == b "
   ]
  },
  {
   "cell_type": "code",
   "execution_count": 30,
   "id": "536105b3",
   "metadata": {},
   "outputs": [
    {
     "data": {
      "text/plain": [
       "True"
      ]
     },
     "execution_count": 30,
     "metadata": {},
     "output_type": "execute_result"
    }
   ],
   "source": [
    "a != b"
   ]
  },
  {
   "cell_type": "code",
   "execution_count": 31,
   "id": "e23527b6",
   "metadata": {},
   "outputs": [
    {
     "data": {
      "text/plain": [
       "True"
      ]
     },
     "execution_count": 31,
     "metadata": {},
     "output_type": "execute_result"
    }
   ],
   "source": [
    "# logical operator\n",
    "a > b and b < 10"
   ]
  },
  {
   "cell_type": "code",
   "execution_count": 32,
   "id": "bffe5a37",
   "metadata": {},
   "outputs": [
    {
     "data": {
      "text/plain": [
       "True"
      ]
     },
     "execution_count": 32,
     "metadata": {},
     "output_type": "execute_result"
    }
   ],
   "source": [
    "a > b or a < b"
   ]
  },
  {
   "cell_type": "code",
   "execution_count": 33,
   "id": "9cca2078",
   "metadata": {},
   "outputs": [
    {
     "data": {
      "text/plain": [
       "True"
      ]
     },
     "execution_count": 33,
     "metadata": {},
     "output_type": "execute_result"
    }
   ],
   "source": [
    "a > b and not a < 10"
   ]
  },
  {
   "cell_type": "code",
   "execution_count": null,
   "id": "918e8df8",
   "metadata": {},
   "outputs": [],
   "source": []
  }
 ],
 "metadata": {
  "kernelspec": {
   "display_name": "Python 3 (ipykernel)",
   "language": "python",
   "name": "python3"
  },
  "language_info": {
   "codemirror_mode": {
    "name": "ipython",
    "version": 3
   },
   "file_extension": ".py",
   "mimetype": "text/x-python",
   "name": "python",
   "nbconvert_exporter": "python",
   "pygments_lexer": "ipython3",
   "version": "3.9.12"
  }
 },
 "nbformat": 4,
 "nbformat_minor": 5
}
