{
 "cells": [
  {
   "cell_type": "code",
   "execution_count": 2,
   "id": "f43ca732",
   "metadata": {
    "scrolled": true
   },
   "outputs": [
    {
     "name": "stdout",
     "output_type": "stream",
     "text": [
      "1 \n",
      "1 2 \n",
      "1 2 3 \n",
      "1 2 3 4 \n",
      "1 2 3 4 5 \n"
     ]
    }
   ],
   "source": [
    "#print phyramid of numbers\n",
    "rows  = 5\n",
    "for i in range(1, rows + 1):\n",
    "    for j in range(1, i+1):\n",
    "        print(j, end=' ' )\n",
    "    print('')"
   ]
  },
  {
   "cell_type": "code",
   "execution_count": 3,
   "id": "43868d4b",
   "metadata": {},
   "outputs": [
    {
     "name": "stdout",
     "output_type": "stream",
     "text": [
      "1 1 1 1 1 \r\n",
      "2 2 2 2 \r\n",
      "3 3 3 \r\n",
      "4 4 \r\n",
      "5 \r\n"
     ]
    }
   ],
   "source": [
    "# inverted phyramid pattern of numbers\n",
    "rows = 5\n",
    "b = 0\n",
    "# reverse loop 5 to 0\n",
    "for i in range(rows, 0, -1):   #5 4 3 2 1\n",
    "    b += 1  #b+1=1:\n",
    "    for j in range(1, i+1):\n",
    "        print(b, end=' ')\n",
    "    print('\\r')    "
   ]
  },
  {
   "cell_type": "code",
   "execution_count": 5,
   "id": "536f7506",
   "metadata": {},
   "outputs": [
    {
     "name": "stdout",
     "output_type": "stream",
     "text": [
      "4 4 4 4 \r\n",
      "4 4 4 \r\n",
      "4 4 \r\n",
      "4 \r\n"
     ]
    }
   ],
   "source": [
    "# inverted phyramid pattern with same digit\n",
    "rows  = 4\n",
    "num = rows\n",
    "# reverse for loop\n",
    "for i in range(rows, 0 , -1):\n",
    "    for j in range(0 , i):\n",
    "        print(num, end=' ')\n",
    "    print('\\r')    "
   ]
  },
  {
   "cell_type": "code",
   "execution_count": 9,
   "id": "654525b3",
   "metadata": {},
   "outputs": [
    {
     "name": "stdout",
     "output_type": "stream",
     "text": [
      "0 1 2 3 4 5 6 7 8 9 10 \r\n",
      "0 1 2 3 4 5 6 7 8 9 \r\n",
      "0 1 2 3 4 5 6 7 8 \r\n",
      "0 1 2 3 4 5 6 7 \r\n",
      "0 1 2 3 4 5 6 \r\n",
      "0 1 2 3 4 5 \r\n",
      "0 1 2 3 4 \r\n",
      "0 1 2 3 \r\n",
      "0 1 2 \r\n",
      "0 1 \r\n"
     ]
    }
   ],
   "source": [
    "# print another inverted half phyramid pattern with numbers\n",
    "rows = 10\n",
    "for i in range(rows, 0, -1):\n",
    "    for j in range(0, i+1):\n",
    "        print(j, end=' ')\n",
    "    print('\\r')"
   ]
  },
  {
   "cell_type": "code",
   "execution_count": 10,
   "id": "c83176d1",
   "metadata": {},
   "outputs": [
    {
     "name": "stdout",
     "output_type": "stream",
     "text": [
      "2 \n",
      "4 4 \n",
      "6 6 6 \n",
      "8 8 8 8 \n",
      "10 10 10 10 10 \n"
     ]
    }
   ],
   "source": [
    "#alternate number pattern using while loop\n",
    "rows = 5\n",
    "i = 1\n",
    "while i <= rows:\n",
    "    j = 1\n",
    "    while j <= i:\n",
    "        print((i*2), end=' ')\n",
    "        j =j + 1\n",
    "    i = i + 1 \n",
    "    print('')"
   ]
  },
  {
   "cell_type": "code",
   "execution_count": 12,
   "id": "8ac5e514",
   "metadata": {},
   "outputs": [
    {
     "name": "stdout",
     "output_type": "stream",
     "text": [
      "5 5 5 5 5 \r\n",
      "4 4 4 4 \r\n",
      "3 3 3 \r\n",
      "2 2 \r\n",
      "1 \r\n"
     ]
    }
   ],
   "source": [
    "#reverse number pattern\n",
    "rows = 5\n",
    "# reverse loop\n",
    "for i in range(rows , 0 , -1):\n",
    "    num = i\n",
    "    for j in range(0,i):\n",
    "        print(num, end=' ')\n",
    "    print('\\r')    "
   ]
  },
  {
   "cell_type": "code",
   "execution_count": 13,
   "id": "a0358b8d",
   "metadata": {},
   "outputs": [
    {
     "name": "stdout",
     "output_type": "stream",
     "text": [
      "1  \n",
      "2 1  \n",
      "3 2 1  \n",
      "4 3 2 1  \n",
      "5 4 3 2 1  \n"
     ]
    }
   ],
   "source": [
    "#reverse phyramid of number\n",
    "rows = 6\n",
    "for i in range(1, rows):\n",
    "    for  j in range(i, 0 ,-1):\n",
    "         print(j , end=' ')\n",
    "    print(' ')        "
   ]
  },
  {
   "cell_type": "code",
   "execution_count": 14,
   "id": "5a72e7ab",
   "metadata": {},
   "outputs": [
    {
     "name": "stdout",
     "output_type": "stream",
     "text": [
      "5 4 3 2 1 \r\n",
      "4 3 2 1 \r\n",
      "3 2 1 \r\n",
      "2 1 \r\n",
      "1 \r\n",
      "\r\n"
     ]
    }
   ],
   "source": [
    "#another reverse number pattern\n",
    "rows = 5\n",
    "for i in range(0, rows + 1):\n",
    "    for j in range(rows - i,0,-1):\n",
    "        print(j, end=' ')\n",
    "    print('\\r')    "
   ]
  },
  {
   "cell_type": "code",
   "execution_count": 17,
   "id": "a33b692e",
   "metadata": {
    "scrolled": true
   },
   "outputs": [
    {
     "name": "stdout",
     "output_type": "stream",
     "text": [
      "1  \n",
      "3 2  \n",
      "6 5 4  \n",
      "10 9 8 7  \n"
     ]
    }
   ],
   "source": [
    "#print reverse number from 10 to 0 in phyramid\n",
    "start = 1\n",
    "stop = 2\n",
    "num = stop\n",
    "for row in range(2,6):\n",
    "    for col in range(start, stop):\n",
    "        num -= 1\n",
    "        print(num, end=\" \")\n",
    "    print(\" \") \n",
    "    start = stop \n",
    "    stop += row\n",
    "    num = stop"
   ]
  },
  {
   "cell_type": "code",
   "execution_count": 21,
   "id": "8391c93d",
   "metadata": {},
   "outputs": [
    {
     "name": "stdout",
     "output_type": "stream",
     "text": [
      "A  \n",
      "B C  \n",
      "D E F  \n",
      "G H I J  \n",
      "K L M N O  \n",
      "P Q R S T U  \n",
      "V W X Y Z [ \\  \n",
      "] ^ _ ` a b c d  \n",
      "e f g h i j k l m  \n",
      "n o p q r s t u v w  \n",
      "x y z { | } ~      \n",
      "  ",
      "           \n",
      "              \n",
      "      ¡ ¢ £ ¤ ¥ ¦ § ¨ ©  \n",
      "ª « ¬ ­ ® ¯ ° ± ² ³ ´ µ ¶ · ¸  \n",
      "¹ º » ¼ ½ ¾ ¿ À Á Â Ã Ä Å Æ Ç È  \n",
      "É Ê Ë Ì Í Î Ï Ð Ñ Ò Ó Ô Õ Ö × Ø Ù  \n",
      "Ú Û Ü Ý Þ ß à á â ã ä å æ ç è é ê ë  \n",
      "ì í î ï ð ñ ò ó ô õ ö ÷ ø ù ú û ü ý þ  \n",
      "ÿ Ā ā Ă ă Ą ą Ć ć Ĉ ĉ Ċ ċ Č č Ď ď Đ đ Ē  \n"
     ]
    }
   ],
   "source": [
    "#A # ASCII CODE 65\n",
    "#ALPHABETS PATTERN\n",
    "ascii_number = 65\n",
    "rows = 20\n",
    "for i in range(0, rows):\n",
    "    for j in range(0, i+1):\n",
    "        character = chr(ascii_number)\n",
    "        print(character, end=' ')\n",
    "        ascii_number += 1\n",
    "    print(\" \")    "
   ]
  },
  {
   "cell_type": "code",
   "execution_count": 23,
   "id": "3d991dfa",
   "metadata": {},
   "outputs": [
    {
     "name": "stdout",
     "output_type": "stream",
     "text": [
      "n\n",
      "ni\n",
      "nil\n",
      "nile\n",
      "niles\n",
      "nilesh\n"
     ]
    }
   ],
   "source": [
    "#pattern to display letter of the word\n",
    "word = 'nilesh'\n",
    "x = \"\"\n",
    "for i in word:\n",
    "    x += i\n",
    "    print(x)"
   ]
  },
  {
   "cell_type": "code",
   "execution_count": null,
   "id": "2d4207e1",
   "metadata": {},
   "outputs": [],
   "source": []
  }
 ],
 "metadata": {
  "kernelspec": {
   "display_name": "Python 3 (ipykernel)",
   "language": "python",
   "name": "python3"
  },
  "language_info": {
   "codemirror_mode": {
    "name": "ipython",
    "version": 3
   },
   "file_extension": ".py",
   "mimetype": "text/x-python",
   "name": "python",
   "nbconvert_exporter": "python",
   "pygments_lexer": "ipython3",
   "version": "3.9.12"
  }
 },
 "nbformat": 4,
 "nbformat_minor": 5
}
