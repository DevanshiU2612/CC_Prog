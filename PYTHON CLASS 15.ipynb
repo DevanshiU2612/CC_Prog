{
 "cells": [
  {
   "cell_type": "code",
   "execution_count": 5,
   "id": "2181c863",
   "metadata": {},
   "outputs": [
    {
     "name": "stdout",
     "output_type": "stream",
     "text": [
      "[12, 45, 56, 34, 67]\n"
     ]
    }
   ],
   "source": [
    "#list practice sets\n",
    "# python program to interchange first and last elements in a list\n",
    "def swaplist(list1):\n",
    "    list1[0],list1[-1] = list1[-1], list1[0]\n",
    "    return list1\n",
    "list1 = [12,45,67,34,56]\n",
    "print(swaplist(list1))\n",
    "    "
   ]
  },
  {
   "cell_type": "code",
   "execution_count": 9,
   "id": "014434c7",
   "metadata": {},
   "outputs": [
    {
     "name": "stdout",
     "output_type": "stream",
     "text": [
      "[12, 3, 7, 4, 345, 5, 67]\n"
     ]
    }
   ],
   "source": [
    "# program to swap two elements in a list\n",
    "def swaplist(list2,pos1,pos2):\n",
    "    list2[pos1],list2[pos2] = list2[pos2],list2[pos1]\n",
    "    return list2\n",
    "list2 = [12,345,7,4,3,5,67]\n",
    "pos1,pos2 = 2,4\n",
    "print(swaplist(list2,pos1-1,pos2))"
   ]
  },
  {
   "cell_type": "code",
   "execution_count": 10,
   "id": "ab051910",
   "metadata": {},
   "outputs": [
    {
     "name": "stdout",
     "output_type": "stream",
     "text": [
      "6\n"
     ]
    }
   ],
   "source": [
    "# program to find length of list\n",
    "n = [12,35,657,243,6855,6454]\n",
    "print(len(n))"
   ]
  },
  {
   "cell_type": "code",
   "execution_count": 11,
   "id": "54520e7d",
   "metadata": {},
   "outputs": [
    {
     "name": "stdout",
     "output_type": "stream",
     "text": [
      "6855\n"
     ]
    }
   ],
   "source": [
    "print(max(n))"
   ]
  },
  {
   "cell_type": "code",
   "execution_count": 12,
   "id": "7d0082f0",
   "metadata": {},
   "outputs": [
    {
     "name": "stdout",
     "output_type": "stream",
     "text": [
      "12\n"
     ]
    }
   ],
   "source": [
    "print(min(n))"
   ]
  },
  {
   "cell_type": "code",
   "execution_count": 14,
   "id": "14d57fe7",
   "metadata": {},
   "outputs": [
    {
     "name": "stdout",
     "output_type": "stream",
     "text": [
      "absent\n"
     ]
    }
   ],
   "source": [
    "# program to check if an element present in the list\n",
    "list = [ 12,45,56,4,5,4,5,67]\n",
    "i = 4365\n",
    "if i in list:\n",
    "    print(\"present\")\n",
    "else:\n",
    "    print(\"absent\")\n",
    "    "
   ]
  },
  {
   "cell_type": "code",
   "execution_count": 17,
   "id": "c4016cd1",
   "metadata": {},
   "outputs": [
    {
     "name": "stdout",
     "output_type": "stream",
     "text": [
      "23 455 44545 "
     ]
    }
   ],
   "source": [
    "#program to print odd numbers in a list\n",
    "list = [23,455,44545,54,56]\n",
    "for num in list:\n",
    "    if num % 2 != 0:\n",
    "       print(num,end = \" \")"
   ]
  },
  {
   "cell_type": "code",
   "execution_count": null,
   "id": "bcb3b020",
   "metadata": {},
   "outputs": [],
   "source": []
  }
 ],
 "metadata": {
  "kernelspec": {
   "display_name": "Python 3 (ipykernel)",
   "language": "python",
   "name": "python3"
  },
  "language_info": {
   "codemirror_mode": {
    "name": "ipython",
    "version": 3
   },
   "file_extension": ".py",
   "mimetype": "text/x-python",
   "name": "python",
   "nbconvert_exporter": "python",
   "pygments_lexer": "ipython3",
   "version": "3.9.12"
  }
 },
 "nbformat": 4,
 "nbformat_minor": 5
}
