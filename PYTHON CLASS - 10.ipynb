{
 "cells": [
  {
   "cell_type": "code",
   "execution_count": 1,
   "id": "c68d64f6",
   "metadata": {},
   "outputs": [],
   "source": [
    "#ASSIGNMENT - 10\n",
    "#write a program that prints the time taken all the prime number\n",
    "# between a given range\n",
    "\n",
    "#INPUT\n",
    "\n",
    "# PROCESS\n",
    "\n",
    "# OUTPUT\n",
    "\n"
   ]
  },
  {
   "cell_type": "code",
   "execution_count": 2,
   "id": "efdb38f7",
   "metadata": {},
   "outputs": [
    {
     "name": "stdout",
     "output_type": "stream",
     "text": [
      "hello\n"
     ]
    }
   ],
   "source": [
    "print(\"hello\")"
   ]
  },
  {
   "cell_type": "code",
   "execution_count": 3,
   "id": "c46a3ce7",
   "metadata": {},
   "outputs": [
    {
     "data": {
      "text/plain": [
       "datetime.datetime(2022, 8, 6, 22, 57, 59, 257885)"
      ]
     },
     "execution_count": 3,
     "metadata": {},
     "output_type": "execute_result"
    }
   ],
   "source": [
    "# the datetime module\n",
    "from datetime import datetime\n",
    "t = datetime.now()\n",
    "t"
   ]
  },
  {
   "cell_type": "code",
   "execution_count": 4,
   "id": "68210554",
   "metadata": {},
   "outputs": [
    {
     "data": {
      "text/plain": [
       "2022"
      ]
     },
     "execution_count": 4,
     "metadata": {},
     "output_type": "execute_result"
    }
   ],
   "source": [
    "t.year"
   ]
  },
  {
   "cell_type": "code",
   "execution_count": 5,
   "id": "45e562a1",
   "metadata": {},
   "outputs": [
    {
     "data": {
      "text/plain": [
       "(6, 8, 2022)"
      ]
     },
     "execution_count": 5,
     "metadata": {},
     "output_type": "execute_result"
    }
   ],
   "source": [
    "t.day,t.month,t.year"
   ]
  },
  {
   "cell_type": "code",
   "execution_count": 6,
   "id": "31350d7e",
   "metadata": {},
   "outputs": [
    {
     "data": {
      "text/plain": [
       "5"
      ]
     },
     "execution_count": 6,
     "metadata": {},
     "output_type": "execute_result"
    }
   ],
   "source": [
    "t.weekday()"
   ]
  },
  {
   "cell_type": "code",
   "execution_count": 7,
   "id": "c1fa4267",
   "metadata": {},
   "outputs": [
    {
     "data": {
      "text/plain": [
       "(22, 57, 59)"
      ]
     },
     "execution_count": 7,
     "metadata": {},
     "output_type": "execute_result"
    }
   ],
   "source": [
    "t.hour,t.minute,t.second"
   ]
  },
  {
   "cell_type": "code",
   "execution_count": 8,
   "id": "1dd12711",
   "metadata": {},
   "outputs": [],
   "source": [
    "# saturday, 6 august 2022, 11:05 PM\n",
    "f = \"%A, %d %B %Y, %I:%M %p\""
   ]
  },
  {
   "cell_type": "code",
   "execution_count": 9,
   "id": "b39b7472",
   "metadata": {},
   "outputs": [
    {
     "data": {
      "text/plain": [
       "'Saturday, 06 August 2022, 10:57 PM'"
      ]
     },
     "execution_count": 9,
     "metadata": {},
     "output_type": "execute_result"
    }
   ],
   "source": [
    "t.strftime(f)  "
   ]
  },
  {
   "cell_type": "code",
   "execution_count": 12,
   "id": "0b04c443",
   "metadata": {},
   "outputs": [
    {
     "data": {
      "text/plain": [
       "datetime.datetime(2022, 8, 6, 23, 8, 45, 417945)"
      ]
     },
     "execution_count": 12,
     "metadata": {},
     "output_type": "execute_result"
    }
   ],
   "source": [
    "t1 = datetime.now()\n",
    "t1"
   ]
  },
  {
   "cell_type": "code",
   "execution_count": 13,
   "id": "9e987be4",
   "metadata": {},
   "outputs": [
    {
     "data": {
      "text/plain": [
       "datetime.timedelta(seconds=646, microseconds=160060)"
      ]
     },
     "execution_count": 13,
     "metadata": {},
     "output_type": "execute_result"
    }
   ],
   "source": [
    "t1 - t"
   ]
  },
  {
   "cell_type": "code",
   "execution_count": 14,
   "id": "a11fcf8f",
   "metadata": {},
   "outputs": [],
   "source": [
    "# the functools module\n",
    "from functools import reduce \n"
   ]
  },
  {
   "cell_type": "code",
   "execution_count": 15,
   "id": "06cfcb05",
   "metadata": {},
   "outputs": [
    {
     "data": {
      "text/plain": [
       "[1, 2, 3, 4, 5, 6, 7, 8, 9, 10]"
      ]
     },
     "execution_count": 15,
     "metadata": {},
     "output_type": "execute_result"
    }
   ],
   "source": [
    "L = list(range(1,11))\n",
    "L"
   ]
  },
  {
   "cell_type": "code",
   "execution_count": 20,
   "id": "85258a80",
   "metadata": {},
   "outputs": [
    {
     "data": {
      "text/plain": [
       "55"
      ]
     },
     "execution_count": 20,
     "metadata": {},
     "output_type": "execute_result"
    }
   ],
   "source": [
    "reduce(lambda a, b : a + b, L)"
   ]
  },
  {
   "cell_type": "code",
   "execution_count": 21,
   "id": "a5759691",
   "metadata": {},
   "outputs": [],
   "source": [
    "# the collection module\n",
    "L = ['red','red','blue','black','red']\n",
    "D = {}\n",
    "for item in L:\n",
    "    if item in D.keys():\n",
    "        D[item] = D[item] + 1\n",
    "    else:     \n",
    "        D[item] = 1\n",
    "        "
   ]
  },
  {
   "cell_type": "code",
   "execution_count": 22,
   "id": "d3544168",
   "metadata": {},
   "outputs": [
    {
     "data": {
      "text/plain": [
       "{'red': 3, 'blue': 1, 'black': 1}"
      ]
     },
     "execution_count": 22,
     "metadata": {},
     "output_type": "execute_result"
    }
   ],
   "source": [
    "D"
   ]
  },
  {
   "cell_type": "code",
   "execution_count": 23,
   "id": "801dba24",
   "metadata": {},
   "outputs": [
    {
     "name": "stdout",
     "output_type": "stream",
     "text": [
      "Counter({'red': 3, 'blue': 1, 'black': 1})\n"
     ]
    }
   ],
   "source": [
    "from collections import Counter\n",
    "#count the elements\n",
    "z = Counter(L)\n",
    "print(z)"
   ]
  },
  {
   "cell_type": "code",
   "execution_count": 24,
   "id": "d558d489",
   "metadata": {},
   "outputs": [],
   "source": [
    "#opertor tools\n",
    "from operator import add\n",
    "#to add "
   ]
  },
  {
   "cell_type": "code",
   "execution_count": 25,
   "id": "da13bf79",
   "metadata": {},
   "outputs": [
    {
     "data": {
      "text/plain": [
       "89"
      ]
     },
     "execution_count": 25,
     "metadata": {},
     "output_type": "execute_result"
    }
   ],
   "source": [
    "13+76"
   ]
  },
  {
   "cell_type": "code",
   "execution_count": 26,
   "id": "c08b6e6a",
   "metadata": {},
   "outputs": [
    {
     "data": {
      "text/plain": [
       "145"
      ]
     },
     "execution_count": 26,
     "metadata": {},
     "output_type": "execute_result"
    }
   ],
   "source": [
    "add(67,78)"
   ]
  },
  {
   "cell_type": "code",
   "execution_count": 27,
   "id": "b032827e",
   "metadata": {},
   "outputs": [],
   "source": [
    "from operator import itemgetter\n",
    "# to find indexing"
   ]
  },
  {
   "cell_type": "code",
   "execution_count": 28,
   "id": "3a1a59f1",
   "metadata": {},
   "outputs": [
    {
     "data": {
      "text/plain": [
       "'p'"
      ]
     },
     "execution_count": 28,
     "metadata": {},
     "output_type": "execute_result"
    }
   ],
   "source": [
    "itemgetter(1)('apple')"
   ]
  },
  {
   "cell_type": "code",
   "execution_count": 30,
   "id": "ab2659f3",
   "metadata": {},
   "outputs": [
    {
     "data": {
      "text/plain": [
       "'orange'"
      ]
     },
     "execution_count": 30,
     "metadata": {},
     "output_type": "execute_result"
    }
   ],
   "source": [
    "itemgetter(3)([\"red\",'blue','black','orange'])"
   ]
  },
  {
   "cell_type": "code",
   "execution_count": 31,
   "id": "478d5a3a",
   "metadata": {},
   "outputs": [
    {
     "data": {
      "text/plain": [
       "'black'"
      ]
     },
     "execution_count": 31,
     "metadata": {},
     "output_type": "execute_result"
    }
   ],
   "source": [
    "itemgetter(-2)([\"red\",'blue','black','orange'])"
   ]
  },
  {
   "cell_type": "code",
   "execution_count": null,
   "id": "70c785e4",
   "metadata": {},
   "outputs": [],
   "source": []
  }
 ],
 "metadata": {
  "kernelspec": {
   "display_name": "Python 3 (ipykernel)",
   "language": "python",
   "name": "python3"
  },
  "language_info": {
   "codemirror_mode": {
    "name": "ipython",
    "version": 3
   },
   "file_extension": ".py",
   "mimetype": "text/x-python",
   "name": "python",
   "nbconvert_exporter": "python",
   "pygments_lexer": "ipython3",
   "version": "3.9.12"
  }
 },
 "nbformat": 4,
 "nbformat_minor": 5
}
