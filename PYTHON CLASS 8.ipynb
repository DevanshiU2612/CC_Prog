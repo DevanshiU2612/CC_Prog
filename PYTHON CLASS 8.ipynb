{
 "cells": [
  {
   "cell_type": "code",
   "execution_count": 1,
   "id": "58292d4d",
   "metadata": {},
   "outputs": [
    {
     "data": {
      "text/plain": [
       "<zip at 0x1b1b47c7700>"
      ]
     },
     "execution_count": 1,
     "metadata": {},
     "output_type": "execute_result"
    }
   ],
   "source": [
    "#ZIP()  #elements of two list conclude in one tuple (KEY:VALUE)\n",
    "T1 = ['ANIL','SUNIL','RAJ']\n",
    "T2 = [27,67,978]\n",
    "zip(T1,T2)"
   ]
  },
  {
   "cell_type": "code",
   "execution_count": 2,
   "id": "91d92419",
   "metadata": {},
   "outputs": [
    {
     "data": {
      "text/plain": [
       "[('ANIL', 27), ('SUNIL', 67), ('RAJ', 978)]"
      ]
     },
     "execution_count": 2,
     "metadata": {},
     "output_type": "execute_result"
    }
   ],
   "source": [
    "list(zip(T1,T2))"
   ]
  },
  {
   "cell_type": "code",
   "execution_count": 3,
   "id": "223d9856",
   "metadata": {},
   "outputs": [
    {
     "data": {
      "text/plain": [
       "{'ANIL': 27, 'SUNIL': 67, 'RAJ': 978}"
      ]
     },
     "execution_count": 3,
     "metadata": {},
     "output_type": "execute_result"
    }
   ],
   "source": [
    "dict(zip(T1,T2))"
   ]
  },
  {
   "cell_type": "code",
   "execution_count": 2,
   "id": "94120372",
   "metadata": {},
   "outputs": [
    {
     "name": "stdout",
     "output_type": "stream",
     "text": [
      "(func1)The value of a is: 20\n",
      "(func2)The value of a is: 10\n",
      "(func3:func)The value of a is: 5\n",
      "(func3:func)The value of a is :  20\n",
      "(func3:func)The value of a is: 10\n"
     ]
    }
   ],
   "source": [
    "#global variable \n",
    "a  = 20\n",
    "def func1():\n",
    "    print(\"(func1)The value of a is:\",a)\n",
    "def func2():\n",
    "    a = 10  #local to func2\n",
    "    print(\"(func2)The value of a is:\",a)    \n",
    "def func3():\n",
    "    a = 10 #local to func3\n",
    "    def func():\n",
    "        a = 5    # 10 value overwrite 5 value = 5 value(output)\n",
    "        print(\"(func3:func)The value of a is:\",a)\n",
    "    func()  \n",
    "    \n",
    "def func4():\n",
    "    a = 10 #local to func4\n",
    "    def func():\n",
    "        global a\n",
    "        print(\"(func4:func)The value of a is : \",a)\n",
    "    func()\n",
    "\n",
    "def func5():\n",
    "    a = 10 #local to func5\n",
    "    def func():\n",
    "        nonlocal a\n",
    "        print(\"(func3:func)The value of a is:\",a)\n",
    "    func()    \n",
    "func1()\n",
    "func2()\n",
    "func3()\n",
    "func4()\n",
    "func5()\n",
    "    \n",
    "\n"
   ]
  },
  {
   "cell_type": "code",
   "execution_count": 12,
   "id": "3c1babe3",
   "metadata": {},
   "outputs": [
    {
     "ename": "ModuleNotFoundError",
     "evalue": "No module named 'myprimes'",
     "output_type": "error",
     "traceback": [
      "\u001b[1;31m---------------------------------------------------------------------------\u001b[0m",
      "\u001b[1;31mModuleNotFoundError\u001b[0m                       Traceback (most recent call last)",
      "Input \u001b[1;32mIn [12]\u001b[0m, in \u001b[0;36m<cell line: 2>\u001b[1;34m()\u001b[0m\n\u001b[0;32m      1\u001b[0m \u001b[38;5;66;03m#to print prime number\u001b[39;00m\n\u001b[1;32m----> 2\u001b[0m \u001b[38;5;28;01mimport\u001b[39;00m \u001b[38;5;21;01mmyprimes\u001b[39;00m\n\u001b[0;32m      3\u001b[0m \u001b[38;5;28mprint\u001b[39m(myprimes\u001b[38;5;241m.\u001b[39mgetprimes(\u001b[38;5;241m1\u001b[39m,\u001b[38;5;241m10\u001b[39m))\n",
      "\u001b[1;31mModuleNotFoundError\u001b[0m: No module named 'myprimes'"
     ]
    }
   ],
   "source": []
  },
  {
   "cell_type": "code",
   "execution_count": null,
   "id": "6e8c275d",
   "metadata": {},
   "outputs": [],
   "source": []
  },
  {
   "cell_type": "code",
   "execution_count": null,
   "id": "1bc4f9c9",
   "metadata": {},
   "outputs": [],
   "source": []
  }
 ],
 "metadata": {
  "kernelspec": {
   "display_name": "Python 3 (ipykernel)",
   "language": "python",
   "name": "python3"
  },
  "language_info": {
   "codemirror_mode": {
    "name": "ipython",
    "version": 3
   },
   "file_extension": ".py",
   "mimetype": "text/x-python",
   "name": "python",
   "nbconvert_exporter": "python",
   "pygments_lexer": "ipython3",
   "version": "3.9.12"
  }
 },
 "nbformat": 4,
 "nbformat_minor": 5
}
